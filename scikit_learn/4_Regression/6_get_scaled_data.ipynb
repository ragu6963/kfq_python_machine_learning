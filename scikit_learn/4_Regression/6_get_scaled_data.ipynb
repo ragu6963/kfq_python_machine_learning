{
 "cells": [
  {
   "cell_type": "code",
   "execution_count": 10,
   "metadata": {},
   "outputs": [],
   "source": [
    "from sklearn.preprocessing import StandardScaler,MinMaxScaler,PolynomialFeatures\n",
    "import numpy as np\n",
    "def get_scaled_data(method='None',p_degree= None,input_data=None):\n",
    "    if method==\"Standard\":\n",
    "        scaled_data = StandardScaler().fit_transform(input_data)\n",
    "    elif method == \"MinMax\":\n",
    "        scaled_data = MinMaxScaler().fit_transform(input_data)\n",
    "    elif method == \"Log\":\n",
    "        scaled_data = np.log1p(input_data)\n",
    "    else:\n",
    "        scaled_data = input_data\n",
    "    \n",
    "    if p_degree != None:\n",
    "        scaled_data = PolynomialFeatures(degree = p_degree,include_bias=False).fit_transform(scaled_data)\n",
    "    \n",
    "    return scaled_data"
   ]
  },
  {
   "cell_type": "code",
   "execution_count": 11,
   "metadata": {},
   "outputs": [],
   "source": [
    "from sklearn.linear_model import Lasso, ElasticNet,Ridge\n",
    "from sklearn.model_selection import cross_val_score\n",
    "def get_linear_reg_eval(model_name,params=None, X_data_n = None, y_target_n = None,verbose=True):\n",
    "    coeff_df = pd.DataFrame()\n",
    "    if verbose : print(f\"##### {model_name} #####\")\n",
    "    for param in params:\n",
    "        if model_name == \"Ridge\": model = Ridge(alpha = param)\n",
    "        elif model_name == \"Lasso\": model = Lasso(alpha = param)\n",
    "        elif model_name == \"ElasicNet\": model = ElasticNet(alpha=param,l1_ratio= 0.7)\n",
    "        neg_mse_scores = cross_val_score(model,X_data_n,y_target_n,scoring=\"neg_mean_squared_error\",cv=5)\n",
    "        avg_rmse = np.mean(np.sqrt(-1*neg_mse_scores))\n",
    "        print(f\"alpha : {param}, cv : 5, 평균 RMSE : {avg_rmse}\")\n",
    "        model.fit(X_data,y_target)\n",
    "        coeff=pd.Series(data = model.coef_,index = X_data.columns)\n",
    "        colname = 'alpha:' + str(param)\n",
    "        coeff_df[colname] = coeff\n",
    "    return coeff_df\n",
    "\n",
    "    "
   ]
  },
  {
   "cell_type": "code",
   "execution_count": 12,
   "metadata": {},
   "outputs": [],
   "source": [
    "import numpy as np\n",
    "import matplotlib.pyplot as plt\n",
    "import pandas as pd\n",
    "import seaborn as sns\n",
    "from scipy import stats\n",
    "from sklearn.datasets import load_boston\n",
    "%matplotlib inline\n",
    "\n",
    "# boston 데이타셋 로드\n",
    "boston = load_boston()\n",
    "boston_df = pd.DataFrame(boston.data,columns=boston.feature_names)\n",
    "\n",
    "boston_df[\"PRICE\"] = boston.target\n",
    "boston_df.head()\n",
    "from sklearn.model_selection import train_test_split \n",
    "\n",
    "y_target = boston_df[\"PRICE\"]\n",
    "X_data = boston_df.iloc[:,:-1]\n",
    "X_train,X_test,y_train,y_test = train_test_split(X_data,y_target,test_size=0.3,random_state=156)\n"
   ]
  },
  {
   "cell_type": "code",
   "execution_count": 14,
   "metadata": {},
   "outputs": [
    {
     "name": "stdout",
     "output_type": "stream",
     "text": [
      "alpha : 0.07, cv : 5, 평균 RMSE : 5.799313946209059\n",
      "alpha : 0.1, cv : 5, 평균 RMSE : 5.788486627032412\n",
      "alpha : 0.5, cv : 5, 평균 RMSE : 5.700420357493769\n",
      "alpha : 1, cv : 5, 평균 RMSE : 5.6525709656135446\n",
      "alpha : 3, cv : 5, 평균 RMSE : 5.588796474090638\n",
      "alpha : 0.07, cv : 5, 평균 RMSE : 5.826790492164019\n",
      "alpha : 0.1, cv : 5, 평균 RMSE : 5.825992799389448\n",
      "alpha : 0.5, cv : 5, 평균 RMSE : 5.815529963369995\n",
      "alpha : 1, cv : 5, 평균 RMSE : 5.802889517257744\n",
      "alpha : 3, cv : 5, 평균 RMSE : 5.756736133142123\n",
      "alpha : 0.07, cv : 5, 평균 RMSE : 9.011156936594821\n",
      "alpha : 0.1, cv : 5, 평균 RMSE : 8.827235873000875\n",
      "alpha : 0.5, cv : 5, 평균 RMSE : 7.507289665421058\n",
      "alpha : 1, cv : 5, 평균 RMSE : 6.871287525964218\n",
      "alpha : 3, cv : 5, 평균 RMSE : 6.162714978605982\n",
      "alpha : 0.07, cv : 5, 평균 RMSE : 5.781974139879262\n",
      "alpha : 0.1, cv : 5, 평균 RMSE : 5.763570225288312\n",
      "alpha : 0.5, cv : 5, 평균 RMSE : 5.584502575163953\n",
      "alpha : 1, cv : 5, 평균 RMSE : 5.465045081564942\n",
      "alpha : 3, cv : 5, 평균 RMSE : 5.375178904313875\n",
      "alpha : 0.07, cv : 5, 평균 RMSE : 5.598622997242127\n",
      "alpha : 0.1, cv : 5, 평균 RMSE : 5.297560003127191\n",
      "alpha : 0.5, cv : 5, 평균 RMSE : 4.366121854593118\n",
      "alpha : 1, cv : 5, 평균 RMSE : 4.322660371524893\n",
      "alpha : 3, cv : 5, 평균 RMSE : 4.685550082654812\n",
      "alpha : 0.07, cv : 5, 평균 RMSE : 4.783899861533655\n",
      "alpha : 0.1, cv : 5, 평균 RMSE : 4.770429614681656\n",
      "alpha : 0.5, cv : 5, 평균 RMSE : 4.697035890866317\n",
      "alpha : 1, cv : 5, 평균 RMSE : 4.676227018966873\n",
      "alpha : 3, cv : 5, 평균 RMSE : 4.6913368569680305\n"
     ]
    }
   ],
   "source": [
    "scale_methods=[(None,None),(\"Standard\",None),(\"Standard\",2),(\"MinMax\",None),(\"MinMax\",2),(\"Log\",None)]\n",
    "alphas = [0.07,0.1,0.5,1,3]\n",
    "for scale_method in scale_methods:\n",
    "    X_data_scaled = get_scaled_data(scale_method[0],scale_method[1],X_data)\n",
    "    get_linear_reg_eval(\"Ridge\",alphas,X_data_scaled,y_target,False)"
   ]
  },
  {
   "cell_type": "code",
   "execution_count": null,
   "metadata": {},
   "outputs": [],
   "source": []
  },
  {
   "cell_type": "code",
   "execution_count": null,
   "metadata": {},
   "outputs": [],
   "source": []
  }
 ],
 "metadata": {
  "kernelspec": {
   "display_name": "Python 3",
   "language": "python",
   "name": "python3"
  },
  "language_info": {
   "codemirror_mode": {
    "name": "ipython",
    "version": 3
   },
   "file_extension": ".py",
   "mimetype": "text/x-python",
   "name": "python",
   "nbconvert_exporter": "python",
   "pygments_lexer": "ipython3",
   "version": "3.7.6"
  }
 },
 "nbformat": 4,
 "nbformat_minor": 4
}
